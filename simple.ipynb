{
 "cells": [
  {
   "metadata": {},
   "cell_type": "markdown",
   "source": [
    "# Jupyter notebook sample"
   ],
   "id": "8a77807f92f26ee"
  },
  {
   "metadata": {
    "ExecuteTime": {
     "end_time": "2024-05-23T05:05:07.660280Z",
     "start_time": "2024-05-23T05:05:07.650278Z"
    }
   },
   "cell_type": "code",
   "source": [
    "# Import libraries\n",
    "import pandas as pd\n",
    "import matplotlib.pyplot as plt\n",
    "import seaborn as sns\n",
    "import numpy as np"
   ],
   "id": "7df9140457caed5e",
   "outputs": [],
   "execution_count": 27
  },
  {
   "metadata": {
    "ExecuteTime": {
     "end_time": "2024-05-23T05:05:07.692297Z",
     "start_time": "2024-05-23T05:05:07.671282Z"
    }
   },
   "cell_type": "code",
   "source": [
    "df=pd.read_csv(r\"C:\\Users\\Sergiu\\OneDrive - Technical University of Cluj-Napoca\\Desktop\\rudi\\CRV.csv\")\n",
    "\n",
    "df=df.drop('ticker',axis=1)"
   ],
   "id": "dd187838bbb1da7",
   "outputs": [],
   "execution_count": 28
  },
  {
   "metadata": {
    "ExecuteTime": {
     "end_time": "2024-05-23T05:05:07.708332Z",
     "start_time": "2024-05-23T05:05:07.694280Z"
    }
   },
   "cell_type": "code",
   "source": "",
   "id": "ffa79a4d1ce34fbd",
   "outputs": [],
   "execution_count": 28
  },
  {
   "metadata": {
    "ExecuteTime": {
     "end_time": "2024-05-23T05:05:07.738821Z",
     "start_time": "2024-05-23T05:05:07.710306Z"
    }
   },
   "cell_type": "code",
   "source": [
    "corr= df.select_dtypes('number').corr()\n",
    "\n",
    "\n",
    "\n",
    "cmap = sns.diverging_palette(100, 5, as_cmap=True)\n",
    "\n",
    "def magnify():\n",
    "    return [dict(selector=\"th\",\n",
    "                 props=[(\"font-size\", \"7pt\")]),\n",
    "            dict(selector=\"td\",\n",
    "                 props=[('padding', \"0em 0em\")]),\n",
    "            dict(selector=\"th:hover\",\n",
    "                 props=[(\"font-size\", \"12pt\")]),\n",
    "            dict(selector=\"tr:hover td:hover\",\n",
    "                 props=[('max-width', '200px'),\n",
    "                        ('font-size', '12pt')])\n",
    "            ]\n",
    "\n",
    "corr.style.background_gradient(cmap, axis=1) \\\n",
    "    .format(precision=3) \\\n",
    "    .set_properties(**{'max-width': '120px', 'font-size': '10pt'}) \\\n",
    "    .set_caption(\"Hover to magify\") \\\n",
    "    .set_table_styles(magnify())"
   ],
   "id": "f5547c88441ca288",
   "outputs": [
    {
     "data": {
      "text/plain": [
       "<pandas.io.formats.style.Styler at 0x25cacaf5cd0>"
      ],
      "text/html": [
       "<style type=\"text/css\">\n",
       "#T_1e116 th {\n",
       "  font-size: 7pt;\n",
       "}\n",
       "#T_1e116 td {\n",
       "  padding: 0em 0em;\n",
       "}\n",
       "#T_1e116 th:hover {\n",
       "  font-size: 12pt;\n",
       "}\n",
       "#T_1e116 tr:hover td:hover {\n",
       "  max-width: 200px;\n",
       "  font-size: 12pt;\n",
       "}\n",
       "#T_1e116_row0_col0, #T_1e116_row1_col1, #T_1e116_row2_col2, #T_1e116_row3_col3 {\n",
       "  background-color: #d73c5b;\n",
       "  color: #f1f1f1;\n",
       "  max-width: 120px;\n",
       "  font-size: 10pt;\n",
       "}\n",
       "#T_1e116_row0_col1 {\n",
       "  background-color: #f1e8ea;\n",
       "  color: #000000;\n",
       "  max-width: 120px;\n",
       "  font-size: 10pt;\n",
       "}\n",
       "#T_1e116_row0_col2 {\n",
       "  background-color: #6e7f3a;\n",
       "  color: #f1f1f1;\n",
       "  max-width: 120px;\n",
       "  font-size: 10pt;\n",
       "}\n",
       "#T_1e116_row0_col3, #T_1e116_row1_col2, #T_1e116_row2_col1, #T_1e116_row3_col1 {\n",
       "  background-color: #6d7e39;\n",
       "  color: #f1f1f1;\n",
       "  max-width: 120px;\n",
       "  font-size: 10pt;\n",
       "}\n",
       "#T_1e116_row1_col0 {\n",
       "  background-color: #e597a7;\n",
       "  color: #000000;\n",
       "  max-width: 120px;\n",
       "  font-size: 10pt;\n",
       "}\n",
       "#T_1e116_row1_col3 {\n",
       "  background-color: #b2bc94;\n",
       "  color: #000000;\n",
       "  max-width: 120px;\n",
       "  font-size: 10pt;\n",
       "}\n",
       "#T_1e116_row2_col0 {\n",
       "  background-color: #e7eddc;\n",
       "  color: #000000;\n",
       "  max-width: 120px;\n",
       "  font-size: 10pt;\n",
       "}\n",
       "#T_1e116_row2_col3 {\n",
       "  background-color: #e0748a;\n",
       "  color: #f1f1f1;\n",
       "  max-width: 120px;\n",
       "  font-size: 10pt;\n",
       "}\n",
       "#T_1e116_row3_col0 {\n",
       "  background-color: #b6c099;\n",
       "  color: #000000;\n",
       "  max-width: 120px;\n",
       "  font-size: 10pt;\n",
       "}\n",
       "#T_1e116_row3_col2 {\n",
       "  background-color: #e38a9c;\n",
       "  color: #f1f1f1;\n",
       "  max-width: 120px;\n",
       "  font-size: 10pt;\n",
       "}\n",
       "</style>\n",
       "<table id=\"T_1e116\">\n",
       "  <caption>Hover to magify</caption>\n",
       "  <thead>\n",
       "    <tr>\n",
       "      <th class=\"blank level0\" >&nbsp;</th>\n",
       "      <th id=\"T_1e116_level0_col0\" class=\"col_heading level0 col0\" >open</th>\n",
       "      <th id=\"T_1e116_level0_col1\" class=\"col_heading level0 col1\" >high</th>\n",
       "      <th id=\"T_1e116_level0_col2\" class=\"col_heading level0 col2\" >low</th>\n",
       "      <th id=\"T_1e116_level0_col3\" class=\"col_heading level0 col3\" >close</th>\n",
       "    </tr>\n",
       "  </thead>\n",
       "  <tbody>\n",
       "    <tr>\n",
       "      <th id=\"T_1e116_level0_row0\" class=\"row_heading level0 row0\" >open</th>\n",
       "      <td id=\"T_1e116_row0_col0\" class=\"data row0 col0\" >1.000</td>\n",
       "      <td id=\"T_1e116_row0_col1\" class=\"data row0 col1\" >0.992</td>\n",
       "      <td id=\"T_1e116_row0_col2\" class=\"data row0 col2\" >0.984</td>\n",
       "      <td id=\"T_1e116_row0_col3\" class=\"data row0 col3\" >0.984</td>\n",
       "    </tr>\n",
       "    <tr>\n",
       "      <th id=\"T_1e116_level0_row1\" class=\"row_heading level0 row1\" >high</th>\n",
       "      <td id=\"T_1e116_row1_col0\" class=\"data row1 col0\" >0.992</td>\n",
       "      <td id=\"T_1e116_row1_col1\" class=\"data row1 col1\" >1.000</td>\n",
       "      <td id=\"T_1e116_row1_col2\" class=\"data row1 col2\" >0.969</td>\n",
       "      <td id=\"T_1e116_row1_col3\" class=\"data row1 col3\" >0.977</td>\n",
       "    </tr>\n",
       "    <tr>\n",
       "      <th id=\"T_1e116_level0_row2\" class=\"row_heading level0 row2\" >low</th>\n",
       "      <td id=\"T_1e116_row2_col0\" class=\"data row2 col0\" >0.984</td>\n",
       "      <td id=\"T_1e116_row2_col1\" class=\"data row2 col1\" >0.969</td>\n",
       "      <td id=\"T_1e116_row2_col2\" class=\"data row2 col2\" >1.000</td>\n",
       "      <td id=\"T_1e116_row2_col3\" class=\"data row2 col3\" >0.995</td>\n",
       "    </tr>\n",
       "    <tr>\n",
       "      <th id=\"T_1e116_level0_row3\" class=\"row_heading level0 row3\" >close</th>\n",
       "      <td id=\"T_1e116_row3_col0\" class=\"data row3 col0\" >0.984</td>\n",
       "      <td id=\"T_1e116_row3_col1\" class=\"data row3 col1\" >0.977</td>\n",
       "      <td id=\"T_1e116_row3_col2\" class=\"data row3 col2\" >0.995</td>\n",
       "      <td id=\"T_1e116_row3_col3\" class=\"data row3 col3\" >1.000</td>\n",
       "    </tr>\n",
       "  </tbody>\n",
       "</table>\n"
      ]
     },
     "execution_count": 29,
     "metadata": {},
     "output_type": "execute_result"
    }
   ],
   "execution_count": 29
  },
  {
   "metadata": {
    "ExecuteTime": {
     "end_time": "2024-05-23T05:05:07.753819Z",
     "start_time": "2024-05-23T05:05:07.740824Z"
    }
   },
   "cell_type": "code",
   "source": [
    "y= df['close']\n",
    "x= df.drop('close',axis=1)\n",
    "x=x.drop('date',axis=1)\n",
    "\n",
    "from sklearn.model_selection import train_test_split\n",
    "X_train, X_test, Y_train, Y_test = train_test_split(x,y,test_size=0.2)\n",
    "X_train.shape, X_test.shape,Y_train.shape, Y_test.shape"
   ],
   "id": "21db83587d40f6f",
   "outputs": [
    {
     "data": {
      "text/plain": [
       "((1045, 3), (262, 3), (1045,), (262,))"
      ]
     },
     "execution_count": 30,
     "metadata": {},
     "output_type": "execute_result"
    }
   ],
   "execution_count": 30
  },
  {
   "metadata": {
    "ExecuteTime": {
     "end_time": "2024-05-23T05:05:07.785919Z",
     "start_time": "2024-05-23T05:05:07.755826Z"
    }
   },
   "cell_type": "code",
   "source": [
    "from sklearn.linear_model import LinearRegression\n",
    "\n",
    "lr =LinearRegression()\n",
    "lr.fit(X_train, Y_train)\n",
    "\n",
    "y_lr_train_pred=lr.predict(X_train)\n",
    "y_lr_test_pred=lr.predict(X_test)\n",
    "\n",
    "from sklearn.metrics import mean_squared_error, r2_score,mean_absolute_error\n",
    "lr_train_mse=mean_squared_error(Y_train,y_lr_train_pred)\n",
    "lr_train_mae=mean_absolute_error(Y_train,y_lr_train_pred)\n",
    "lr_train_r2=r2_score(Y_train,y_lr_train_pred)\n",
    "\n",
    "lr_test_mse=mean_squared_error(Y_test,y_lr_test_pred)\n",
    "lr_test_mae=mean_absolute_error(Y_test,y_lr_test_pred)\n",
    "lr_test_r2=r2_score(Y_test,y_lr_test_pred)\n",
    "\n",
    "\n",
    "\n",
    "print(\"Valoarea MSE antrenament: \",lr_train_mse)\n",
    "print(\"Valoarea MAE antrenament: \",lr_train_mae)\n",
    "print(\"Valoarea R2 antrenament:\",lr_train_r2)\n",
    "print(\"Valoarea MSE test: \",lr_test_mse)\n",
    "print(\"Valoarea MAE test: \",lr_test_mae)\n",
    "print(\"Valoarea R2 test: \",lr_test_r2)"
   ],
   "id": "5bc32d75d5aa4265",
   "outputs": [
    {
     "name": "stdout",
     "output_type": "stream",
     "text": [
      "Valoarea MSE antrenament:  0.008579659372137925\n",
      "Valoarea MAE antrenament:  0.051526397865004285\n",
      "Valoarea R2 antrenament: 0.9941482751575706\n",
      "Valoarea MSE test:  0.008411353782156177\n",
      "Valoarea MAE test:  0.05382662323541474\n",
      "Valoarea R2 test:  0.9959626365111195\n"
     ]
    }
   ],
   "execution_count": 31
  },
  {
   "metadata": {
    "ExecuteTime": {
     "end_time": "2024-05-23T05:05:07.832413Z",
     "start_time": "2024-05-23T05:05:07.787822Z"
    }
   },
   "cell_type": "code",
   "source": [
    "from sklearn.linear_model import Ridge\n",
    "\n",
    "# Inițializează modelul de regresie Ridge\n",
    "ridge = Ridge(alpha=1.0)\n",
    "ridge.fit(X_train, Y_train)\n",
    "\n",
    "# Realizează predicții pentru seturile de antrenament și testare\n",
    "y_ridge_train_pred = ridge.predict(X_train)\n",
    "y_ridge_test_pred = ridge.predict(X_test)\n",
    "\n",
    "# Evaluează performanța modelului folosind metricele de eroare\n",
    "from sklearn.metrics import mean_squared_error, r2_score, mean_absolute_error\n",
    "ridge_train_mse = mean_squared_error(Y_train, y_ridge_train_pred)\n",
    "ridge_train_mae = mean_absolute_error(Y_train, y_ridge_train_pred)\n",
    "ridge_train_r2 = r2_score(Y_train, y_ridge_train_pred)\n",
    "\n",
    "ridge_test_mse = mean_squared_error(Y_test, y_ridge_test_pred)\n",
    "ridge_test_mae = mean_absolute_error(Y_test, y_ridge_test_pred)\n",
    "ridge_test_r2 = r2_score(Y_test, y_ridge_test_pred)\n",
    "\n",
    "# Afișează rezultatele\n",
    "print(\"Valoarea MSE antrenament: \", ridge_train_mse)\n",
    "print(\"Valoarea MAE antrenament: \", ridge_train_mae)\n",
    "print(\"Valoarea R2 antrenament:\", ridge_train_r2)\n",
    "print(\"Valoarea MSE test: \", ridge_test_mse)\n",
    "print(\"Valoarea MAE test: \", ridge_test_mae)\n",
    "print(\"Valoarea R2 test: \", ridge_test_r2)\n"
   ],
   "id": "7e57036482d58cb9",
   "outputs": [
    {
     "name": "stdout",
     "output_type": "stream",
     "text": [
      "Valoarea MSE antrenament:  0.008657524952713757\n",
      "Valoarea MAE antrenament:  0.052131356129054986\n",
      "Valoarea R2 antrenament: 0.9940951672272366\n",
      "Valoarea MSE test:  0.008600161867861804\n",
      "Valoarea MAE test:  0.05467568619883767\n",
      "Valoarea R2 test:  0.9958720105677369\n"
     ]
    }
   ],
   "execution_count": 32
  },
  {
   "metadata": {
    "ExecuteTime": {
     "end_time": "2024-05-23T05:06:27.536418Z",
     "start_time": "2024-05-23T05:06:27.501288Z"
    }
   },
   "cell_type": "code",
   "source": [
    "from sklearn.linear_model import Lasso\n",
    "\n",
    "# Inițializează modelul de regresie Lasso\n",
    "lasso = Lasso(alpha=1.0)\n",
    "lasso.fit(X_train, Y_train)\n",
    "\n",
    "# Realizează predicții pentru seturile de antrenament și testare\n",
    "y_lasso_train_pred = lasso.predict(X_train)\n",
    "y_lasso_test_pred = lasso.predict(X_test)\n",
    "\n",
    "# Evaluează performanța modelului folosind metricele de eroare\n",
    "from sklearn.metrics import mean_squared_error, r2_score, mean_absolute_error\n",
    "lasso_train_mse = mean_squared_error(Y_train, y_lasso_train_pred)\n",
    "lasso_train_mae = mean_absolute_error(Y_train, y_lasso_train_pred)\n",
    "lasso_train_r2 = r2_score(Y_train, y_lasso_train_pred)\n",
    "\n",
    "lasso_test_mse = mean_squared_error(Y_test, y_lasso_test_pred)\n",
    "lasso_test_mae = mean_absolute_error(Y_test, y_lasso_test_pred)\n",
    "lasso_test_r2 = r2_score(Y_test, y_lasso_test_pred)\n",
    "\n",
    "# Afișează rezultatele\n",
    "print(\"Valoarea MSE antrenament: \", lasso_train_mse)\n",
    "print(\"Valoarea MAE antrenament: \", lasso_train_mae)\n",
    "print(\"Valoarea R2 antrenament:\", lasso_train_r2)\n",
    "print(\"Valoarea MSE test: \", lasso_test_mse)\n",
    "print(\"Valoarea MAE test: \", lasso_test_mae)\n",
    "print(\"Valoarea R2 test: \", lasso_test_r2)\n"
   ],
   "id": "255139e51fdcb5e3",
   "outputs": [
    {
     "name": "stdout",
     "output_type": "stream",
     "text": [
      "Valoarea MSE antrenament:  0.6005336222289156\n",
      "Valoarea MAE antrenament:  0.6323418389629032\n",
      "Valoarea R2 antrenament: 0.590408271064572\n",
      "Valoarea MSE test:  0.812077096814652\n",
      "Valoarea MAE test:  0.6908351697432634\n",
      "Valoarea R2 test:  0.6102113279564043\n"
     ]
    }
   ],
   "execution_count": 33
  },
  {
   "metadata": {},
   "cell_type": "code",
   "outputs": [],
   "execution_count": null,
   "source": "",
   "id": "af2fdb0272ece839"
  }
 ],
 "metadata": {
  "kernelspec": {
   "display_name": "Python 3",
   "language": "python",
   "name": "python3"
  },
  "language_info": {
   "codemirror_mode": {
    "name": "ipython",
    "version": 2
   },
   "file_extension": ".py",
   "mimetype": "text/x-python",
   "name": "python",
   "nbconvert_exporter": "python",
   "pygments_lexer": "ipython2",
   "version": "2.7.6"
  }
 },
 "nbformat": 4,
 "nbformat_minor": 5
}
